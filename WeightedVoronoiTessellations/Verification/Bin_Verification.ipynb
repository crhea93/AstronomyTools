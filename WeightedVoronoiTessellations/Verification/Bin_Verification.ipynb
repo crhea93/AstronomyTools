{
 "cells": [
  {
   "cell_type": "markdown",
   "metadata": {},
   "source": [
    "# Verification of bins\n",
    "In order to verify that the binning algorithm is not losing any pixels, we make a quick comparison of counts in the initial fits file and the combined fits file. If they binning algorithm is properly assigning pixels in ciao, then we would expect the residual to be zero for all values. "
   ]
  },
  {
   "cell_type": "code",
   "execution_count": 15,
   "metadata": {},
   "outputs": [
    {
     "name": "stdout",
     "output_type": "stream",
     "text": [
      "15\n"
     ]
    }
   ],
   "source": [
    "import numpy as np\n",
    "import os\n",
    "from astropy.table import Table\n",
    "import matplotlib.pyplot as plt\n",
    "from astropy.io import fits\n",
    "\n",
    "%matplotlib inline\n",
    "\n",
    "\n",
    "home_dir = '/home/crhea/Documents/TestData/12036/repro'\n",
    "os.chdir(home_dir)\n",
    "hdu_list = fits.open(\"simple.pi\")\n",
    "evt_data = Table(hdu_list[1].data)\n",
    "hdu_list_comb = fits.open(\"binned/combined_src.pi\")\n",
    "evt_data_comb = Table(hdu_list[1].data)"
   ]
  },
  {
   "cell_type": "code",
   "execution_count": 12,
   "metadata": {},
   "outputs": [
    {
     "data": {
      "text/plain": [
       "[<matplotlib.lines.Line2D at 0x7fccc0f19048>]"
      ]
     },
     "execution_count": 12,
     "metadata": {},
     "output_type": "execute_result"
    },
    {
     "data": {
      "image/png": "[encoded data removed]",
      "text/plain": [
       "<Figure size 432x288 with 1 Axes>"
      ]
     },
     "metadata": {},
     "output_type": "display_data"
    }
   ],
   "source": [
    "diff = evt_data_comb['COUNTS']-evt_data['COUNTS']\n",
    "if max(diff)-min(diff) != 0:\n",
    "    plt.ylim(min(diff),max(diff))\n",
    "plt.plot(evt_data['PI'],diff)"
   ]
  },
  {
   "cell_type": "code",
   "execution_count": null,
   "metadata": {},
   "outputs": [],
   "source": []
  },
  {
   "cell_type": "code",
   "execution_count": null,
   "metadata": {},
   "outputs": [],
   "source": []
  }
 ],
 "metadata": {
  "kernelspec": {
   "display_name": "Python 3",
   "language": "python",
   "name": "python3"
  },
  "language_info": {
   "codemirror_mode": {
    "name": "ipython",
    "version": 3
   },
   "file_extension": ".py",
   "mimetype": "text/x-python",
   "name": "python",
   "nbconvert_exporter": "python",
   "pygments_lexer": "ipython3",
   "version": "3.6.5"
  }
 },
 "nbformat": 4,
 "nbformat_minor": 2
}
